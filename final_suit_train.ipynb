{
 "cells": [
  {
   "cell_type": "code",
   "execution_count": 2,
   "metadata": {},
   "outputs": [],
   "source": [
    "import os\n",
    "\n",
    "import matplotlib.pylab as plt\n",
    "import numpy as np\n",
    "\n",
    "import tensorflow as tf\n",
    "import tensorflow_hub as hub"
   ]
  },
  {
   "cell_type": "code",
   "execution_count": 3,
   "metadata": {},
   "outputs": [],
   "source": [
    "model_name = \"mobilenet_v2_100_224\"\n",
    "model_handle = \"https://tfhub.dev/google/imagenet/mobilenet_v2_100_224/feature_vector/5\"\n",
    "image_size = (224,224)\n",
    "batch_size = 16\n",
    "data_dir = \"suit_data\""
   ]
  },
  {
   "cell_type": "code",
   "execution_count": 4,
   "metadata": {},
   "outputs": [],
   "source": [
    "def build_dataset(subset):\n",
    "      return tf.keras.preprocessing.image_dataset_from_directory(\n",
    "        data_dir,\n",
    "        validation_split=.20,\n",
    "        subset=subset,\n",
    "        label_mode=\"categorical\",\n",
    "        seed=123,\n",
    "        image_size=image_size,\n",
    "        batch_size=1)"
   ]
  },
  {
   "cell_type": "code",
   "execution_count": 5,
   "metadata": {},
   "outputs": [
    {
     "name": "stdout",
     "output_type": "stream",
     "text": [
      "Found 1112 files belonging to 5 classes.\n",
      "Using 890 files for training.\n",
      "Found 1112 files belonging to 5 classes.\n",
      "Using 222 files for validation.\n"
     ]
    },
    {
     "name": "stderr",
     "output_type": "stream",
     "text": [
      "2022-01-05 07:36:38.706715: W tensorflow/stream_executor/platform/default/dso_loader.cc:64] Could not load dynamic library 'libcudart.so.11.0'; dlerror: libcudart.so.11.0: cannot open shared object file: No such file or directory\n",
      "2022-01-05 07:36:38.706790: W tensorflow/stream_executor/platform/default/dso_loader.cc:64] Could not load dynamic library 'libcublas.so.11'; dlerror: libcublas.so.11: cannot open shared object file: No such file or directory\n",
      "2022-01-05 07:36:38.706830: W tensorflow/stream_executor/platform/default/dso_loader.cc:64] Could not load dynamic library 'libcublasLt.so.11'; dlerror: libcublasLt.so.11: cannot open shared object file: No such file or directory\n",
      "2022-01-05 07:36:38.706872: W tensorflow/stream_executor/platform/default/dso_loader.cc:64] Could not load dynamic library 'libcufft.so.10'; dlerror: libcufft.so.10: cannot open shared object file: No such file or directory\n",
      "2022-01-05 07:36:38.706911: W tensorflow/stream_executor/platform/default/dso_loader.cc:64] Could not load dynamic library 'libcurand.so.10'; dlerror: libcurand.so.10: cannot open shared object file: No such file or directory\n",
      "2022-01-05 07:36:38.706950: W tensorflow/stream_executor/platform/default/dso_loader.cc:64] Could not load dynamic library 'libcusolver.so.11'; dlerror: libcusolver.so.11: cannot open shared object file: No such file or directory\n",
      "2022-01-05 07:36:38.706990: W tensorflow/stream_executor/platform/default/dso_loader.cc:64] Could not load dynamic library 'libcusparse.so.11'; dlerror: libcusparse.so.11: cannot open shared object file: No such file or directory\n",
      "2022-01-05 07:36:38.707031: W tensorflow/stream_executor/platform/default/dso_loader.cc:64] Could not load dynamic library 'libcudnn.so.8'; dlerror: libcudnn.so.8: cannot open shared object file: No such file or directory\n",
      "2022-01-05 07:36:38.707040: W tensorflow/core/common_runtime/gpu/gpu_device.cc:1850] Cannot dlopen some GPU libraries. Please make sure the missing libraries mentioned above are installed properly if you would like to use GPU. Follow the guide at https://www.tensorflow.org/install/gpu for how to download and setup the required libraries for your platform.\n",
      "Skipping registering GPU devices...\n",
      "2022-01-05 07:36:38.707776: I tensorflow/core/platform/cpu_feature_guard.cc:151] This TensorFlow binary is optimized with oneAPI Deep Neural Network Library (oneDNN) to use the following CPU instructions in performance-critical operations:  AVX2 AVX512F FMA\n",
      "To enable them in other operations, rebuild TensorFlow with the appropriate compiler flags.\n"
     ]
    }
   ],
   "source": [
    "train_ds    = build_dataset(\"training\")\n",
    "val_ds      = build_dataset(\"validation\")\n",
    "\n",
    "train_size  = train_ds.cardinality().numpy()\n",
    "val_size    =   val_ds.cardinality().numpy()\n",
    "class_names = tuple(train_ds.class_names)"
   ]
  },
  {
   "cell_type": "code",
   "execution_count": 6,
   "metadata": {},
   "outputs": [],
   "source": [
    "normalization_layer = tf.keras.layers.Rescaling(1. / 255)\n",
    "\n",
    "preprocessing_train = tf.keras.Sequential([\n",
    "    normalization_layer,\n",
    "    tf.keras.layers.RandomRotation(0.1),\n",
    "    tf.keras.layers.RandomTranslation(0, 0.2),\n",
    "    tf.keras.layers.RandomTranslation(0.2, 0),\n",
    "    tf.keras.layers.RandomZoom(0.2, 0.2),\n",
    "    tf.keras.layers.RandomContrast(0.1),\n",
    "])\n",
    "\n",
    "preprocessing_val = tf.keras.Sequential([\n",
    "    normalization_layer])"
   ]
  },
  {
   "cell_type": "code",
   "execution_count": 7,
   "metadata": {},
   "outputs": [],
   "source": [
    "train_ds = train_ds.unbatch().batch(batch_size)\n",
    "train_ds = train_ds.repeat()\n",
    "train_ds = train_ds.map(lambda images, labels:(preprocessing_train(images), labels))\n",
    "\n",
    "val_ds = val_ds.unbatch().batch(batch_size)\n",
    "val_ds = val_ds.map(lambda images, labels:(preprocessing_val(images), labels))"
   ]
  },
  {
   "cell_type": "code",
   "execution_count": 8,
   "metadata": {},
   "outputs": [],
   "source": [
    "model = tf.keras.Sequential([\n",
    "    tf.keras.layers.InputLayer(input_shape=image_size + (3,)),\n",
    "    hub.KerasLayer(model_handle, trainable=True),\n",
    "    tf.keras.layers.Dropout(rate=0.2),\n",
    "    tf.keras.layers.Dense(len(class_names),\n",
    "                          kernel_regularizer=tf.keras.regularizers.l2(0.0001))\n",
    "])"
   ]
  },
  {
   "cell_type": "code",
   "execution_count": 9,
   "metadata": {},
   "outputs": [
    {
     "name": "stdout",
     "output_type": "stream",
     "text": [
      "Model: \"sequential_2\"\n",
      "_________________________________________________________________\n",
      " Layer (type)                Output Shape              Param #   \n",
      "=================================================================\n",
      " keras_layer (KerasLayer)    (None, 1280)              2257984   \n",
      "                                                                 \n",
      " dropout (Dropout)           (None, 1280)              0         \n",
      "                                                                 \n",
      " dense (Dense)               (None, 5)                 6405      \n",
      "                                                                 \n",
      "=================================================================\n",
      "Total params: 2,264,389\n",
      "Trainable params: 2,230,277\n",
      "Non-trainable params: 34,112\n",
      "_________________________________________________________________\n"
     ]
    }
   ],
   "source": [
    "model.summary()"
   ]
  },
  {
   "cell_type": "code",
   "execution_count": 10,
   "metadata": {},
   "outputs": [],
   "source": [
    "model.compile(\n",
    "  optimizer=tf.keras.optimizers.SGD(learning_rate=0.005), \n",
    "  loss=tf.keras.losses.CategoricalCrossentropy(from_logits=True, label_smoothing=0.1),\n",
    "  metrics=['accuracy'])"
   ]
  },
  {
   "cell_type": "code",
   "execution_count": 11,
   "metadata": {},
   "outputs": [
    {
     "name": "stdout",
     "output_type": "stream",
     "text": [
      "Epoch 1/10\n",
      "55/55 [==============================] - 58s 959ms/step - loss: 1.2440 - accuracy: 0.5830 - val_loss: 1.0008 - val_accuracy: 0.7163\n",
      "Epoch 2/10\n",
      "55/55 [==============================] - 50s 910ms/step - loss: 0.8152 - accuracy: 0.8467 - val_loss: 0.7421 - val_accuracy: 0.8606\n",
      "Epoch 3/10\n",
      "55/55 [==============================] - 50s 904ms/step - loss: 0.6840 - accuracy: 0.9279 - val_loss: 0.6707 - val_accuracy: 0.9279\n",
      "Epoch 4/10\n",
      "55/55 [==============================] - 50s 908ms/step - loss: 0.6566 - accuracy: 0.9359 - val_loss: 0.6516 - val_accuracy: 0.9087\n",
      "Epoch 5/10\n",
      "55/55 [==============================] - 50s 910ms/step - loss: 0.6150 - accuracy: 0.9542 - val_loss: 0.6731 - val_accuracy: 0.9135\n",
      "Epoch 6/10\n",
      "55/55 [==============================] - 50s 904ms/step - loss: 0.5955 - accuracy: 0.9634 - val_loss: 0.6513 - val_accuracy: 0.9087\n",
      "Epoch 7/10\n",
      "55/55 [==============================] - 50s 908ms/step - loss: 0.6049 - accuracy: 0.9622 - val_loss: 0.6569 - val_accuracy: 0.9183\n",
      "Epoch 8/10\n",
      "55/55 [==============================] - 50s 907ms/step - loss: 0.5927 - accuracy: 0.9703 - val_loss: 0.6829 - val_accuracy: 0.9135\n",
      "Epoch 9/10\n",
      "55/55 [==============================] - 50s 906ms/step - loss: 0.6011 - accuracy: 0.9657 - val_loss: 0.7084 - val_accuracy: 0.9038\n",
      "Epoch 10/10\n",
      "55/55 [==============================] - 50s 904ms/step - loss: 0.5798 - accuracy: 0.9691 - val_loss: 0.7355 - val_accuracy: 0.8942\n"
     ]
    }
   ],
   "source": [
    "steps_per_epoch = train_size // batch_size\n",
    "validation_steps = val_size // batch_size\n",
    "hist = model.fit(\n",
    "    train_ds,\n",
    "    epochs=10, steps_per_epoch=steps_per_epoch,\n",
    "    validation_data=val_ds,\n",
    "    validation_steps=validation_steps).history"
   ]
  },
  {
   "cell_type": "code",
   "execution_count": 12,
   "metadata": {},
   "outputs": [
    {
     "data": {
      "image/png": "[encoded data removed]",
      "text/plain": [
       "<Figure size 720x576 with 2 Axes>"
      ]
     },
     "metadata": {
      "needs_background": "light"
     },
     "output_type": "display_data"
    }
   ],
   "source": [
    "fig, (ax1, ax2) = plt.subplots(2, figsize=(10,8))\n",
    "ax1.set(ylabel=\"Loss\", ylim=[0,2])\n",
    "ax1.plot(hist[\"loss\"], label=\"Train\")\n",
    "ax1.plot(hist[\"val_loss\"], label=\"Validation\")\n",
    "ax1.legend()\n",
    "\n",
    "ax2.set(ylabel=\"Accuracy\", xlabel=\"Epochs\", ylim=[0,1])\n",
    "ax2.plot(hist[\"accuracy\"])\n",
    "ax2.plot(hist[\"val_accuracy\"])\n",
    "\n",
    "fig.savefig(\"train_loss.png\")"
   ]
  },
  {
   "cell_type": "code",
   "execution_count": 13,
   "metadata": {},
   "outputs": [
    {
     "name": "stderr",
     "output_type": "stream",
     "text": [
      "2022-01-05 07:49:10.887569: W tensorflow/python/util/util.cc:368] Sets are not currently considered sequences, but this may change in the future, so consider avoiding using them.\n"
     ]
    },
    {
     "name": "stdout",
     "output_type": "stream",
     "text": [
      "INFO:tensorflow:Assets written to: /home/woojac/proj/031_shuffle/suit_predictor03/assets\n"
     ]
    },
    {
     "name": "stderr",
     "output_type": "stream",
     "text": [
      "INFO:tensorflow:Assets written to: /home/woojac/proj/031_shuffle/suit_predictor03/assets\n"
     ]
    }
   ],
   "source": [
    "model.save(\"/home/woojac/proj/031_shuffle/suit_predictor03\")"
   ]
  },
  {
   "cell_type": "code",
   "execution_count": null,
   "metadata": {},
   "outputs": [],
   "source": []
  },
  {
   "cell_type": "code",
   "execution_count": null,
   "metadata": {},
   "outputs": [],
   "source": []
  },
  {
   "cell_type": "code",
   "execution_count": null,
   "metadata": {},
   "outputs": [],
   "source": []
  },
  {
   "cell_type": "code",
   "execution_count": null,
   "metadata": {},
   "outputs": [],
   "source": []
  }
 ],
 "metadata": {
  "interpreter": {
   "hash": "916dbcbb3f70747c44a77c7bcd40155683ae19c65e1c03b4aa3499c5328201f1"
  },
  "kernelspec": {
   "display_name": "Python 3.9.7 64-bit",
   "language": "python",
   "name": "python3"
  },
  "language_info": {
   "codemirror_mode": {
    "name": "ipython",
    "version": 3
   },
   "file_extension": ".py",
   "mimetype": "text/x-python",
   "name": "python",
   "nbconvert_exporter": "python",
   "pygments_lexer": "ipython3",
   "version": "3.9.7"
  },
  "orig_nbformat": 4
 },
 "nbformat": 4,
 "nbformat_minor": 2
}
