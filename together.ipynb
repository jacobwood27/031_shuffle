{
 "cells": [
  {
   "cell_type": "code",
   "execution_count": 3,
   "metadata": {},
   "outputs": [],
   "source": [
    "import cv2\n",
    "import numpy as np\n",
    "import os\n",
    "from matplotlib import pyplot as plt\n",
    "import tensorflow as tf"
   ]
  },
  {
   "cell_type": "code",
   "execution_count": 15,
   "metadata": {},
   "outputs": [],
   "source": [
    "ranks = ('0', '2', '3', '4', '5', '6', '7', '8', '9', 'a', 'j', 'k', 'q', 'z')\n",
    "rank_model = tf.keras.models.load_model(\"/home/woojac/proj/031_shuffle/rank_predictor03\")\n",
    "\n",
    "suits = ('0', 'c', 'd', 'h', 's')\n",
    "suit_model = tf.keras.models.load_model(\"/home/woojac/proj/031_shuffle/suit_predictor03\")\n",
    "\n",
    "image_size = (224, 224)"
   ]
  },
  {
   "cell_type": "code",
   "execution_count": 3,
   "metadata": {},
   "outputs": [],
   "source": [
    "# def im_preprocess(im_path):\n",
    "#     image = tf.keras.preprocessing.image.load_img(im_path, target_size=IMAGE_SIZE)\n",
    "#     input_arr = tf.keras.preprocessing.image.img_to_array(image)\n",
    "#     input_arr = np.array([input_arr])\n",
    "\n",
    "#     normalization_layer = tf.keras.layers.Rescaling(1. / 255)\n",
    "#     preprocessing_pipe = tf.keras.Sequential([normalization_layer])\n",
    "#     input_arr = preprocessing_pipe(input_arr)\n",
    "\n",
    "#     return input_arr"
   ]
  },
  {
   "cell_type": "code",
   "execution_count": 4,
   "metadata": {},
   "outputs": [],
   "source": [
    "# def frame_preprocess(frame):\n",
    "#     image = cv2.resize(frame, IMAGE_SIZE)\n",
    "#     input_arr = image[...,::-1].astype(np.float32)\n",
    "#     # input_arr = tf.keras.preprocessing.image.img_to_array(image)\n",
    "#     input_arr = np.array([input_arr])\n",
    "\n",
    "#     normalization_layer = tf.keras.layers.Rescaling(1. / 255)\n",
    "#     preprocessing_pipe = tf.keras.Sequential([normalization_layer])\n",
    "#     input_arr = preprocessing_pipe(input_arr)\n",
    "\n",
    "#     return input_arr"
   ]
  },
  {
   "cell_type": "code",
   "execution_count": 8,
   "metadata": {},
   "outputs": [],
   "source": [
    "def prep_frame(f):\n",
    "    return cv2.resize(f[0:800, 700:1500], (224,224))\n",
    "\n",
    "normalization_layer = tf.keras.layers.Rescaling(1. / 255)\n",
    "preprocessing_model = tf.keras.Sequential([normalization_layer])\n",
    "def prep_input(inp):\n",
    "    f = prep_frame(inp)\n",
    "    arr = np.array([f[...,::-1].astype(np.float32)])\n",
    "    return preprocessing_model(arr)"
   ]
  },
  {
   "cell_type": "code",
   "execution_count": 10,
   "metadata": {},
   "outputs": [],
   "source": [
    "def draw_text(img, text, font=cv2.FONT_HERSHEY_PLAIN, pos=(0, 0), font_scale=3, font_thickness=2, text_color=(0, 0, 0), text_color_bg=(255, 255, 255)):\n",
    "    x, y = pos\n",
    "    text_size, _ = cv2.getTextSize(text, font, font_scale, font_thickness)\n",
    "    text_w, text_h = text_size\n",
    "    cv2.rectangle(img, pos, (x + text_w, y + text_h), text_color_bg, -1)\n",
    "    cv2.putText(img, text, (x, y + text_h + font_scale - 1), font, font_scale, text_color, font_thickness)"
   ]
  },
  {
   "cell_type": "code",
   "execution_count": 9,
   "metadata": {},
   "outputs": [
    {
     "name": "stdout",
     "output_type": "stream",
     "text": [
      "3 4.206448 d 2.8929741\n",
      "3 4.5590086 c 2.925106\n",
      "3 4.451889 d 2.8372653\n",
      "9 4.108052 s 1.8934891\n",
      "5 3.8893232 s 2.04989\n",
      "q 4.7998114 s 2.135923\n",
      "2 4.472737 s 1.9529548\n",
      "7 4.3941255 h 2.553339\n",
      "2 4.5558696 s 1.9818089\n",
      "3 4.3285217 h 2.6408098\n",
      "5 5.03402 d 2.8254404\n",
      "3 4.454445 h 2.6068544\n",
      "2 4.556124 s 1.9976466\n",
      "9 4.2580466 c 2.8623936\n",
      "9 4.5715137 c 2.9600174\n",
      "0 4.6767883 c 2.8023505\n",
      "a 2.2831507 c 0.84159356\n"
     ]
    }
   ],
   "source": [
    "test_dir = \"/home/woojac/proj/031_shuffle/suit_test\"\n",
    "test_pics = os.listdir(test_dir)\n",
    "\n",
    "for pic in test_pics:\n",
    "    fullpic = os.path.join(test_dir, pic)\n",
    "    \n",
    "    im = im_preprocess(fullpic)\n",
    "    \n",
    "    preds = suit_model.predict(im)\n",
    "    suit_likely = np.max(preds)\n",
    "    suit_pred = suits[np.argmax(preds)]\n",
    "\n",
    "    preds = rank_model.predict(im)\n",
    "    rank_likely = np.max(preds)\n",
    "    rank_pred = ranks[np.argmax(preds)]\n",
    "    \n",
    "    print(rank_pred, rank_likely, suit_pred, suit_likely)\n",
    "    \n",
    "    im = cv2.imread(fullpic, 0)\n",
    "    draw_text(im, rank_pred + suit_pred)\n",
    "    cv2.imshow(\"test\", im)\n",
    "    \n",
    "    if cv2.waitKey() == ord('q'):\n",
    "        break\n",
    "    \n",
    "cv2.destroyAllWindows()"
   ]
  },
  {
   "cell_type": "code",
   "execution_count": null,
   "metadata": {},
   "outputs": [],
   "source": []
  },
  {
   "cell_type": "code",
   "execution_count": 25,
   "metadata": {},
   "outputs": [
    {
     "name": "stdout",
     "output_type": "stream",
     "text": [
      "4c\n",
      "8d\n",
      "kc\n",
      "8h\n",
      "9c\n",
      "qh\n",
      "js\n",
      "3d\n",
      "2d\n",
      "kd\n",
      "9s\n",
      "9h\n",
      "0s\n",
      "6d\n",
      "ad\n",
      "2c\n",
      "2h\n",
      "3c\n",
      "7s\n"
     ]
    }
   ],
   "source": [
    "cap = cv2.VideoCapture(\"/home/woojac/proj/031_shuffle/IMG_0975.MOV\")\n",
    "# cap = cv2.VideoCapture(\"/home/woojac/proj/031_shuffle/IMG_0982.MOV\")\n",
    "\n",
    "last_card = \"\"\n",
    "card_order = []\n",
    "viz = True\n",
    "\n",
    "writ = cv2.VideoWriter('savevid.avi', cv2.VideoWriter_fourcc(*'MJPG'), 30, (1920,1080))\n",
    "\n",
    "while True:\n",
    "    ret, frame = cap.read()\n",
    "    if not ret:\n",
    "        print(\"No frame\")\n",
    "        break\n",
    "            \n",
    "    inp = prep_input(frame)\n",
    "    \n",
    "    preds = suit_model.predict(inp)\n",
    "    suit_likely = np.max(preds)\n",
    "    suit_pred = suits[np.argmax(preds)]\n",
    "\n",
    "    preds = rank_model.predict(inp)\n",
    "    rank_likely = np.max(preds)\n",
    "    rank_pred = ranks[np.argmax(preds)]\n",
    "\n",
    "    if rank_pred!=\"z\" and suit_pred!=\"0\":\n",
    "        card = rank_pred + suit_pred\n",
    "        if card == last_card and (len(card_order)==0 or card_order[-1] != card):\n",
    "            card_order.append(card)\n",
    "            print(card)\n",
    "        if card == last_card and viz:\n",
    "            draw_text(frame, rank_pred + suit_pred, pos=(800, 500))\n",
    "        last_card = card\n",
    "        \n",
    "    \n",
    "    if viz:\n",
    "        cv2.imshow('frame', frame)\n",
    "        writ.write(frame)\n",
    "        if cv2.waitKey(3) == ord('q'):\n",
    "            break\n",
    "        \n",
    "writ.release()\n",
    "cv2.destroyAllWindows()"
   ]
  },
  {
   "cell_type": "code",
   "execution_count": 26,
   "metadata": {},
   "outputs": [
    {
     "name": "stdout",
     "output_type": "stream",
     "text": [
      "19\n",
      "19\n"
     ]
    }
   ],
   "source": [
    "print(len(card_order))\n",
    "print(len(set(card_order)))"
   ]
  },
  {
   "cell_type": "code",
   "execution_count": 8,
   "metadata": {},
   "outputs": [],
   "source": [
    "last_card = card_order[-1]\n",
    "\n",
    "r1 = card_order[:card_order.index(last_card)+1]\n",
    "r2 = card_order[card_order.index(last_card)+1:]"
   ]
  },
  {
   "cell_type": "code",
   "execution_count": null,
   "metadata": {},
   "outputs": [],
   "source": [
    "## try this \n",
    "def get_order(co):\n",
    "    num_el = len(set(co))\n",
    "    \n",
    "    last_card = card_order[-1]\n",
    "\n",
    "    r1 = card_order[:card_order.index(last_card)+1]\n",
    "    r2 = card_order[card_order.index(last_card)+1:]\n",
    "\n",
    "    i = 0\n",
    "    while i < num_el:\n",
    "        if r1[i] == r2[i] or r1[i]==\"\" or r2[i]==\"\":\n",
    "            pass\n",
    "        elif r1[i] == r2[i+1]:\n",
    "            r1.insert(i,\"\")\n",
    "            i = -1\n",
    "        elif r2[i] == r1[i+1]:\n",
    "            r2.insert(i,\"\")\n",
    "            i = -1\n",
    "        \n",
    "        i += 1\n",
    "        \n"
   ]
  },
  {
   "cell_type": "code",
   "execution_count": 27,
   "metadata": {},
   "outputs": [],
   "source": [
    "card_order = [\"0d\",\"8c\",\"jc\",\"0h\",\"jh\",\"9s\",\"9d\",\"kh\",\"0s\",\"9h\",\"9d\",\"as\",\"0d\",\"8c\",\"jc\",\"0h\",\"jh\",\"8s\",\"9s\",\"9d\",\"kh\",\"0s\",\"9h\"]"
   ]
  },
  {
   "cell_type": "code",
   "execution_count": 34,
   "metadata": {},
   "outputs": [
    {
     "name": "stdout",
     "output_type": "stream",
     "text": [
      "   9d\n",
      "   as\n",
      "0d 0d\n",
      "8c 8c\n",
      "jc jc\n",
      "0h 0h\n",
      "jh jh\n",
      "   8s\n",
      "9s 9s\n",
      "9d 9d\n",
      "kh kh\n",
      "0s 0s\n",
      "9h 9h\n",
      "as\n",
      "0d\n",
      "8c\n",
      "jc\n",
      "0h\n",
      "jh\n",
      "8s\n",
      "9s\n",
      "9d\n",
      "kh\n",
      "0s\n",
      "9h\n"
     ]
    },
    {
     "data": {
      "text/plain": [
       "[None, None, None, None, None, None, None, None, None, None, None, None]"
      ]
     },
     "execution_count": 34,
     "metadata": {},
     "output_type": "execute_result"
    }
   ],
   "source": [
    "num_el = len(set(card_order))\n",
    "\n",
    "last_card = card_order[-1]\n",
    "\n",
    "r1 = card_order[:card_order.index(last_card)+1]\n",
    "r2 = card_order[card_order.index(last_card)+1:]\n",
    "\n",
    "i = 0\n",
    "while i < num_el:\n",
    "    if r1[i] == r2[i] or r1[i]==\"  \" or r2[i]==\"  \":\n",
    "        pass\n",
    "    elif i > len(r1):\n",
    "        r1.append(\"  \")\n",
    "        i = -1\n",
    "    elif i > len(r2):\n",
    "        r2.append(\"  \")\n",
    "        i = -1\n",
    "    elif r1[i] == r2[i+1]:\n",
    "        r1.insert(i,\"  \")\n",
    "        i = -1\n",
    "    elif r2[i] == r1[i+1]:\n",
    "        r2.insert(i,\"  \")\n",
    "        i = -1\n",
    "    elif r1[i] == r2[i+2]:\n",
    "        r1.insert(i,\"  \")\n",
    "        i = -1\n",
    "    elif r2[i] == r1[i+2]:\n",
    "        r2.insert(i,\"  \")\n",
    "        i = -1\n",
    "    else:\n",
    "        print(r1[i], r1[i+1], r2[i], r2[i+1])\n",
    "        \n",
    "    i += 1\n",
    "\n",
    "[print(i,j) for i,j in zip(r1,r2)]\n",
    "\n",
    "ord = []\n",
    "for (e1,e2) in zip(r1, r2):\n",
    "    if e1 == \"  \":\n",
    "        if card_order.count(e2) > 1: #if there are more elements elsewhere, then this was probably a false id\n",
    "            continue\n",
    "        else: #if not, then this was probably a miss\n",
    "            ord.append(e2)\n",
    "    elif e2 == \"  \":\n",
    "        if card_order.count(e1) > 1: #if there are more elements elsewhere, then this was probably a false id\n",
    "            continue\n",
    "        else: #if not, then this was probably a miss\n",
    "            ord.append(e1)\n",
    "    elif e1 == e2:\n",
    "        ord.append(e1)\n",
    "    else:\n",
    "        print(\"Shouldn't be here!\")\n",
    "\n",
    "ord"
   ]
  },
  {
   "cell_type": "code",
   "execution_count": 41,
   "metadata": {},
   "outputs": [],
   "source": [
    "def get_shuffle(o1, o2):\n",
    "    #find first card in o2 that is not in the order of o1\n",
    "    i = 0\n",
    "    for e in o2:\n",
    "        if e==o1[i]:\n",
    "            i+=1\n",
    "        else:\n",
    "            cut_loc = i\n",
    "    lh = o1[:cut_loc]\n",
    "    rh = o1[cut_loc:]\n",
    "    \n",
    "    o = \"\"\n",
    "    il = 0\n",
    "    ir = 0\n",
    "    for e in o2:\n",
    "        if il<len(lh) and e==lh[il]:\n",
    "            o += \"1\"\n",
    "            il += 1\n",
    "        elif e==rh[ir]:\n",
    "            o += \"2\"\n",
    "            ir += 1\n",
    "        else:\n",
    "            ValueError(\"not feasible shuffle result\")\n",
    "            \n",
    "    return o"
   ]
  },
  {
   "cell_type": "code",
   "execution_count": 42,
   "metadata": {},
   "outputs": [
    {
     "data": {
      "text/plain": [
       "'211212211122'"
      ]
     },
     "execution_count": 42,
     "metadata": {},
     "output_type": "execute_result"
    }
   ],
   "source": [
    "o1 = [\"as\",\"0d\",\"8c\",\"jc\",\"0h\",\"jh\",\"8s\",\"9s\",\"9d\",\"kh\",\"0s\",\"9h\"]\n",
    "o2 = [\"8s\",\"as\",\"0d\",\"9s\",\"8c\",\"9d\",\"kh\",\"jc\",\"0h\",\"jh\",\"0s\",\"9h\"]\n",
    "get_shuffle(o1,o2)\n"
   ]
  }
 ],
 "metadata": {
  "interpreter": {
   "hash": "916dbcbb3f70747c44a77c7bcd40155683ae19c65e1c03b4aa3499c5328201f1"
  },
  "kernelspec": {
   "display_name": "Python 3.9.7 64-bit",
   "language": "python",
   "name": "python3"
  },
  "language_info": {
   "codemirror_mode": {
    "name": "ipython",
    "version": 3
   },
   "file_extension": ".py",
   "mimetype": "text/x-python",
   "name": "python",
   "nbconvert_exporter": "python",
   "pygments_lexer": "ipython3",
   "version": "3.9.7"
  },
  "orig_nbformat": 4
 },
 "nbformat": 4,
 "nbformat_minor": 2
}
